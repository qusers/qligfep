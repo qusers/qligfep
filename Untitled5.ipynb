{
 "cells": [
  {
   "cell_type": "code",
   "execution_count": 10,
   "id": "51dad632-6121-413a-90f8-2c583541543b",
   "metadata": {},
   "outputs": [],
   "source": [
    "import re\n",
    "import shlex\n",
    "from subprocess import check_output\n",
    "import os\n",
    "import stat\n",
    "from xml.etree.ElementInclude import include\n",
    "import numpy as np\n",
    "\n",
    "import functions as f\n",
    "import settings as s\n",
    "import IO\n",
    "\n",
    "distance= 40\n",
    "coord1 = 0.919,0.61,-2.808\n",
    "\n",
    "with open('ISO1_GIFT1215_1_prot.pdb') as infile, \\\n",
    "     open('test.pdb', 'w') as outfile:\n",
    "    for line in infile:\n",
    "        #if line.startswith(include):\n",
    "        line = IO.pdb_parse_in(line)\n",
    "        if type(line) == list:\n",
    "            coord2 = list(line[8:11])\n",
    "            res_num = list(line[6:7])\n",
    "            chain_id = list(line[5:6])\n",
    "            b = [{'chain_id': chain_id, 'res_num': res_num,} for\n",
    "            chain_id,res_num in zip(chain_id,res_num)]\n",
    "          #  print(\"New dictionary:\",b)\n",
    "                         \n",
    "#            print(chain_id, res_num, coord2, f.euclidian_overlap(coord1,coord2,distance))\n",
    "            \n",
    "            # then back to string for writing\n",
    "            outline = IO.pdb_parse_out(line)\n",
    "\n",
    "        else:\n",
    "            outline = line\n",
    "\n",
    "        # block of code that checks whether it is in\n",
    "\n",
    "            "
   ]
  },
  {
   "cell_type": "code",
   "execution_count": null,
   "id": "c1d5f598-3789-4dc2-bedd-0ae9a781c099",
   "metadata": {},
   "outputs": [
    {
     "name": "stdout",
     "output_type": "stream",
     "text": [
      "New dictionary: [{'stu_name': 'Smith', 'stu_id': 39, 'stu_post': 'Developer'}, {'stu_name': 'Gayle', 'stu_id': 48, 'stu_post': 'gamer'}, {'stu_name': 'Potter', 'stu_id': 72.86, 'stu_post': 'tester'}]\n"
     ]
    }
   ],
   "source": []
  }
 ],
 "metadata": {
  "kernelspec": {
   "display_name": "Python 3 (ipykernel)",
   "language": "python",
   "name": "python3"
  },
  "language_info": {
   "codemirror_mode": {
    "name": "ipython",
    "version": 3
   },
   "file_extension": ".py",
   "mimetype": "text/x-python",
   "name": "python",
   "nbconvert_exporter": "python",
   "pygments_lexer": "ipython3",
   "version": "3.9.7"
  }
 },
 "nbformat": 4,
 "nbformat_minor": 5
}
