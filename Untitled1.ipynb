{
 "cells": [
  {
   "cell_type": "code",
   "execution_count": 9,
   "id": "5799331e-d3a1-4684-ad1b-a1970014afa5",
   "metadata": {},
   "outputs": [],
   "source": [
    "my_list = []\n",
    "       "
   ]
  },
  {
   "cell_type": "code",
   "execution_count": 10,
   "id": "edf3aab0-da02-4a9f-98a5-1e6f48bad0e2",
   "metadata": {},
   "outputs": [
    {
     "name": "stdout",
     "output_type": "stream",
     "text": [
      "[]\n"
     ]
    }
   ],
   "source": [
    "str_match = [s for s in my_list if \"True\" in s]\n",
    "print(str_match)"
   ]
  },
  {
   "cell_type": "code",
   "execution_count": 14,
   "id": "1d8e337d-68f0-4984-bab8-635c4900b7d3",
   "metadata": {},
   "outputs": [
    {
     "ename": "SyntaxError",
     "evalue": "invalid syntax (1477510306.py, line 10)",
     "output_type": "error",
     "traceback": [
      "\u001b[0;36m  File \u001b[0;32m\"/var/folders/94/xz_qvz150yz6nbyfjgj46lsr0000gn/T/ipykernel_37639/1477510306.py\"\u001b[0;36m, line \u001b[0;32m10\u001b[0m\n\u001b[0;31m    check_if_exists(, ls)\u001b[0m\n\u001b[0m                    ^\u001b[0m\n\u001b[0;31mSyntaxError\u001b[0m\u001b[0;31m:\u001b[0m invalid syntax\n"
     ]
    }
   ],
   "source": [
    "def check_if_exists(x, ls):\n",
    "    if x in ls:\n",
    "        print(str(x) + ' is inside the list')\n",
    "    else:\n",
    "        print(str(x) + ' is not present in the list')\n",
    " \n",
    " \n",
    "ls = []\n",
    " \n",
    "check_if_exists(, ls)"
   ]
  },
  {
   "cell_type": "code",
   "execution_count": null,
   "id": "8ccc9bc8-7419-411a-81f3-3d5316fff73c",
   "metadata": {},
   "outputs": [],
   "source": [
    "numbers = []\n",
    "\n",
    "def cut_indices(numbers):\n",
    "    # this function iterate over the indices that need to be 'cut'\n",
    "    for i in xrange(len(numbers)-1):\n",
    "        if numbers[i+1] - numbers[i] > 15:\n",
    "            yield i+1\n",
    "\n",
    "def splitter(numbers):\n",
    "    # this function split the original list into sublists.\n",
    "    px = 0\n",
    "    for x in cut_indices(numbers):\n",
    "        yield numbers[px:x]\n",
    "        px = x\n",
    "    yield numbers[px:]\n",
    "\n",
    "def cluster(numbers):\n",
    "    # using the above result, to form a dict object.\n",
    "    cluster_ids = xrange(1,len(numbers))\n",
    "    return dict(zip(cluster_ids, splitter(numbers)))\n",
    "\n",
    "print cluster(numbers)"
   ]
  }
 ],
 "metadata": {
  "kernelspec": {
   "display_name": "Python 3 (ipykernel)",
   "language": "python",
   "name": "python3"
  },
  "language_info": {
   "codemirror_mode": {
    "name": "ipython",
    "version": 3
   },
   "file_extension": ".py",
   "mimetype": "text/x-python",
   "name": "python",
   "nbconvert_exporter": "python",
   "pygments_lexer": "ipython3",
   "version": "3.9.7"
  }
 },
 "nbformat": 4,
 "nbformat_minor": 5
}
