{
 "cells": [
  {
   "cell_type": "code",
   "execution_count": 4,
   "id": "47cb164d-5199-47dc-b257-7c2cd9007953",
   "metadata": {},
   "outputs": [
    {
     "ename": "ValueError",
     "evalue": "could not convert string to float: '9 -14.70'",
     "output_type": "error",
     "traceback": [
      "\u001b[0;31m---------------------------------------------------------------------------\u001b[0m",
      "\u001b[0;31mValueError\u001b[0m                                Traceback (most recent call last)",
      "\u001b[0;32m/var/folders/94/xz_qvz150yz6nbyfjgj46lsr0000gn/T/ipykernel_41094/1109619540.py\u001b[0m in \u001b[0;36m<module>\u001b[0;34m\u001b[0m\n\u001b[1;32m     71\u001b[0m      \u001b[0mopen\u001b[0m\u001b[0;34m(\u001b[0m\u001b[0;34m'try52.pdb'\u001b[0m\u001b[0;34m,\u001b[0m \u001b[0;34m'w'\u001b[0m\u001b[0;34m)\u001b[0m \u001b[0;32mas\u001b[0m \u001b[0moutfile4\u001b[0m\u001b[0;34m:\u001b[0m\u001b[0;34m\u001b[0m\u001b[0;34m\u001b[0m\u001b[0m\n\u001b[1;32m     72\u001b[0m      \u001b[0;32mfor\u001b[0m \u001b[0mline05\u001b[0m \u001b[0;32min\u001b[0m \u001b[0minfile\u001b[0m\u001b[0;34m:\u001b[0m\u001b[0;34m\u001b[0m\u001b[0;34m\u001b[0m\u001b[0m\n\u001b[0;32m---> 73\u001b[0;31m         \u001b[0mline05\u001b[0m \u001b[0;34m=\u001b[0m \u001b[0mIO\u001b[0m\u001b[0;34m.\u001b[0m\u001b[0mpdb_parse_in\u001b[0m\u001b[0;34m(\u001b[0m\u001b[0mline05\u001b[0m\u001b[0;34m)\u001b[0m\u001b[0;34m\u001b[0m\u001b[0;34m\u001b[0m\u001b[0m\n\u001b[0m\u001b[1;32m     74\u001b[0m \u001b[0;34m\u001b[0m\u001b[0m\n\u001b[1;32m     75\u001b[0m \u001b[0;34m\u001b[0m\u001b[0m\n",
      "\u001b[0;32m~/software/qligfep/IO.py\u001b[0m in \u001b[0;36mpdb_parse_in\u001b[0;34m(line, include)\u001b[0m\n\u001b[1;32m     33\u001b[0m         \u001b[0mat_entry\u001b[0m\u001b[0;34m.\u001b[0m\u001b[0mappend\u001b[0m\u001b[0;34m(\u001b[0m\u001b[0mline\u001b[0m\u001b[0;34m[\u001b[0m\u001b[0;36m26\u001b[0m\u001b[0;34m:\u001b[0m\u001b[0;36m27\u001b[0m\u001b[0;34m]\u001b[0m\u001b[0;34m)\u001b[0m            \u001b[0;31m#  7 Code for insertion of residue\u001b[0m\u001b[0;34m\u001b[0m\u001b[0;34m\u001b[0m\u001b[0m\n\u001b[1;32m     34\u001b[0m         \u001b[0mat_entry\u001b[0m\u001b[0;34m.\u001b[0m\u001b[0mappend\u001b[0m\u001b[0;34m(\u001b[0m\u001b[0mfloat\u001b[0m\u001b[0;34m(\u001b[0m\u001b[0mline\u001b[0m\u001b[0;34m[\u001b[0m\u001b[0;36m30\u001b[0m\u001b[0;34m:\u001b[0m\u001b[0;36m38\u001b[0m\u001b[0;34m]\u001b[0m\u001b[0;34m)\u001b[0m\u001b[0;34m)\u001b[0m     \u001b[0;31m#  8 Orthogonal coordinates for X\u001b[0m\u001b[0;34m\u001b[0m\u001b[0;34m\u001b[0m\u001b[0m\n\u001b[0;32m---> 35\u001b[0;31m         \u001b[0mat_entry\u001b[0m\u001b[0;34m.\u001b[0m\u001b[0mappend\u001b[0m\u001b[0;34m(\u001b[0m\u001b[0mfloat\u001b[0m\u001b[0;34m(\u001b[0m\u001b[0mline\u001b[0m\u001b[0;34m[\u001b[0m\u001b[0;36m38\u001b[0m\u001b[0;34m:\u001b[0m\u001b[0;36m46\u001b[0m\u001b[0;34m]\u001b[0m\u001b[0;34m)\u001b[0m\u001b[0;34m)\u001b[0m     \u001b[0;31m#  9 Orthogonal coordinates for Y\u001b[0m\u001b[0;34m\u001b[0m\u001b[0;34m\u001b[0m\u001b[0m\n\u001b[0m\u001b[1;32m     36\u001b[0m         \u001b[0mat_entry\u001b[0m\u001b[0;34m.\u001b[0m\u001b[0mappend\u001b[0m\u001b[0;34m(\u001b[0m\u001b[0mfloat\u001b[0m\u001b[0;34m(\u001b[0m\u001b[0mline\u001b[0m\u001b[0;34m[\u001b[0m\u001b[0;36m46\u001b[0m\u001b[0;34m:\u001b[0m\u001b[0;36m54\u001b[0m\u001b[0;34m]\u001b[0m\u001b[0;34m)\u001b[0m\u001b[0;34m)\u001b[0m     \u001b[0;31m# 10 Orthogonal coordinates for Z\u001b[0m\u001b[0;34m\u001b[0m\u001b[0;34m\u001b[0m\u001b[0m\n\u001b[1;32m     37\u001b[0m         \u001b[0;31m# These entries can be empty\u001b[0m\u001b[0;34m\u001b[0m\u001b[0;34m\u001b[0m\u001b[0m\n",
      "\u001b[0;31mValueError\u001b[0m: could not convert string to float: '9 -14.70'"
     ]
    }
   ],
   "source": [
    "from calendar import c\n",
    "import re\n",
    "import shlex\n",
    "from subprocess import check_output\n",
    "import os\n",
    "import stat\n",
    "from xml.etree.ElementInclude import include\n",
    "import numpy as np\n",
    "\n",
    "import functions as f\n",
    "import settings as s\n",
    "import IO\n",
    "from itertools import chain\n",
    "from collections import defaultdict\n",
    "from itertools import groupby\n",
    "\n",
    "\n",
    "distance= 20\n",
    "coord1 = 0.919,0.61,-2.808\n",
    "to_keep = {}\n",
    "end_list=[]\n",
    "\n",
    "final={}\n",
    "j =1\n",
    "r3={}\n",
    "i3=1\n",
    "f1=['A','B','C','D','E','F','G','H','I','J','K','L','M','N','O','P','Q','R','S','T','U','V','W','X','Y','Z']\n",
    "for l in f1:\n",
    "    r3[str(i3)] = l\n",
    "    i3 = i3 + 1\n",
    "\n",
    "\n",
    "with open('ISO1_GIFT1215_1_prot.pdb') as infile, \\\n",
    "     open('try007.pdb', 'w') as outfile:\n",
    "     for line1 in infile:\n",
    "        line1 = IO.pdb_parse_in(line1)\n",
    "        if type(line1) == list:\n",
    "            resnum = line1[6]\n",
    "            resname = line1[4]\n",
    "            dict_key=()\n",
    "            dict_key=(resname,)#+str(resnum)\n",
    "            resnum=resnum.strip()\n",
    "            dict_key=dict_key+(resnum,)\n",
    "            \n",
    "            if dict_key not in final:\n",
    "                final[dict_key] =' '+ str(j)\n",
    "                j = j + 1\n",
    "#                print(dict_key)\n",
    "with open('ISO1_GIFT1215_1_prot.pdb') as infile, \\\n",
    "     open('try005.pdb', 'w') as outfile3:\n",
    "    for line04 in infile:\n",
    "        line04 = IO.pdb_parse_in(line04)\n",
    "        if type(line04) == list:\n",
    "            resnum = line04[6]\n",
    "            resname = line04[4]\n",
    "            dict_key=()\n",
    "            dict_key=(resname,)#+str(resnum)\n",
    "            resnum=resnum.strip()\n",
    "            dict_key=dict_key+(resnum,)\n",
    "#            print(final[('TRP', '59')])\n",
    "#            print(final[dict_key])\n",
    "            line04[6] = final[dict_key]\n",
    "            outline2 = IO.pdb_parse_out(line04)\n",
    "#            print(line4)\n",
    "                \n",
    "            outfile3.write(outline2 + '\\n')\n",
    "#            print(line4[6])\n",
    "        \n",
    "\n",
    "with open('try005.pdb') as infile, \\\n",
    "     open('try52.pdb', 'w') as outfile4:\n",
    "     for line05 in infile:\n",
    "        line05 = IO.pdb_parse_in(line05)\n",
    "        \n",
    "        \n",
    "        if type(line05) == list:\n",
    "            coord2 = tuple(line05[8:11])\n",
    "            chain_id = line05[5]\n",
    "            resnum = line05[6]\n",
    "            combo = line05[5:7]\n",
    "#            print(line05)\n",
    "    \n",
    "            \n",
    "#            print(line)\n",
    "            if f.euclidian_overlap(coord1, coord2, distance) == True:\n",
    "                if chain_id not in to_keep:\n",
    "                    to_keep[chain_id]=[]\n",
    "                to_keep[chain_id].append(resnum)\n",
    "#                print(to_keep)\n",
    "\n",
    "            if chain_id not in to_keep:\n",
    "                to_keep[chain_id]=[]\n",
    "\n",
    "            if resnum in to_keep[chain_id]:\n",
    "                end_list.append(line05)\n",
    "#                print(end_list)\n",
    "\n",
    "                #        print(line)\n",
    "#close('ISO1_GIFT1215_1_prot.pdb')\n",
    "#print(end_list)\n",
    "#with open('ISO1_GIFT1215_1_prot.pdb') as infile, \\\n",
    "#     open('try53.pdb', 'w') as outfile2:\n",
    "#     print(to_keep)\n",
    "#        print(infile)\n",
    "#     for line2 in infile:\n",
    "#        print(line2)\n",
    "#        line2 = IO.pdb_parse_in(line2)\n",
    "#        if type(line2) == list:\n",
    "#            coord2 = tuple(line2[8:11])\n",
    "#            chain_id = line2[5]\n",
    "#            resnum = line2[6]\n",
    "#            combo = line2[5:7]\n",
    "#        if chain_id in to_keep:\n",
    "#            if resnum in to_keep[chain_id]:\n",
    "#                print(line2)\n",
    "#                outline = IO.pdb_parse_out(line2)\n",
    "                \n",
    "#                outfile2.write(outline + '\\n')\n",
    "#            print(outline)"
   ]
  },
  {
   "cell_type": "code",
   "execution_count": 5,
   "id": "7c48f676-7dcc-45cb-bbac-222e506eb3c8",
   "metadata": {},
   "outputs": [],
   "source": [
    "final={}\n",
    "j =1\n",
    "with open('try53.pdb') as infile, \\\n",
    "     open('try60.pdb', 'w') as outfile3:\n",
    "#        print(infile)\n",
    "     for line3 in infile:\n",
    "        line3 = IO.pdb_parse_in(line3)\n",
    "        if type(line3) == list:\n",
    "            resnum = line3[6]\n",
    "            resname = line3[4]\n",
    "            dict_key=()\n",
    "            dict_key=(resname,)#+str(resnum)\n",
    "            resnum=resnum.strip()\n",
    "            dict_key=dict_key+(resnum,)\n",
    "#            print(dict_key)\n",
    "\n",
    "            if dict_key not in final:\n",
    "                final[dict_key] =' '+ str(j)\n",
    "                j = j + 1\n",
    "#print(final[dict_key])\n",
    "#print(final[('TRP', '59')])\n",
    "#print(final)\n",
    "#for k in final:\n",
    "#    print(k)\n",
    "#    print(final[k])\n",
    "with open('try53.pdb') as infile, \\\n",
    "     open('try65.pdb', 'w') as outfile3:\n",
    "    for line4 in infile:\n",
    "        line4 = IO.pdb_parse_in(line4)\n",
    "        if type(line4) == list:\n",
    "            resnum = line4[6]\n",
    "            resname = line4[4]\n",
    "            dict_key=()\n",
    "            dict_key=(resname,)#+str(resnum)\n",
    "            resnum=resnum.strip()\n",
    "            dict_key=dict_key+(resnum,)\n",
    "#            print(final[('TRP', '59')])\n",
    "#            print(final[dict_key])\n",
    "            line4[6] = final[dict_key]\n",
    "            outline2 = IO.pdb_parse_out(line4)\n",
    "#            print(line4)\n",
    "                \n",
    "            outfile3.write(outline2 + '\\n')\n",
    "#            print(line4[6])"
   ]
  },
  {
   "cell_type": "code",
   "execution_count": 3,
   "id": "98bd8fba-6e5d-4614-98be-154260718e82",
   "metadata": {},
   "outputs": [],
   "source": []
  },
  {
   "cell_type": "code",
   "execution_count": 15,
   "id": "104120bf-c4bb-4b5f-88f2-b1521ae51558",
   "metadata": {},
   "outputs": [
    {
     "name": "stdout",
     "output_type": "stream",
     "text": [
      "{('TRP', '59'): ' 1', ('ILE', '63'): ' 2', ('ASP', '64'): ' 3', ('PHE', '65'): ' 4', ('LEU', '66'): ' 5', ('LEU', '67'): ' 6', ('SER', '68'): ' 7', ('VAL', '69'): ' 8', ('VAL', '70'): ' 9', ('GLY', '71'): ' 10', ('PHE', '72'): ' 11', ('ALA', '73'): ' 12', ('VAL', '74'): ' 13', ('ASP', '75'): ' 14', ('LEU', '76'): ' 15', ('ALA', '77'): ' 16', ('ASN', '78'): ' 17', ('VAL', '79'): ' 18', ('TRP', '80'): ' 19', ('ARG', '81'): ' 20', ('PHE', '82'): ' 21', ('PRO', '83'): ' 22', ('TYR', '84'): ' 23', ('LEU', '85'): ' 24', ('CYS', '86'): ' 25', ('LYS', '88'): ' 26', ('ASN', '89'): ' 27', ('PHE', '94'): ' 28', ('LEU', '95'): ' 29', ('PRO', '97'): ' 30', ('TYR', '98'): ' 31', ('THR', '99'): ' 32', ('PHE', '101'): ' 33', ('LEU', '102'): ' 34', ('ILE', '103'): ' 35', ('ILE', '104'): ' 36', ('ALA', '105'): ' 37', ('GLY', '106'): ' 38', ('MET', '107'): ' 39', ('PRO', '108'): ' 40', ('LEU', '109'): ' 41', ('PHE', '110'): ' 42', ('TYR', '111'): ' 43', ('MET', '112'): ' 44', ('GLU', '113'): ' 45', ('LEU', '114'): ' 46', ('ALA', '115'): ' 47', ('LEU', '116'): ' 48', ('GLY', '117'): ' 49', ('GLN', '118'): ' 50', ('GLU', '122'): ' 51', ('GLY', '123'): ' 52', ('ALA', '124'): ' 53', ('ALA', '125'): ' 54', ('VAL', '127'): ' 55', ('TRP', '128'): ' 56', ('GLY', '136'): ' 57', ('VAL', '137'): ' 58', ('GLY', '138'): ' 59', ('TYR', '139'): ' 60', ('ALA', '140'): ' 61', ('VAL', '141'): ' 62', ('ILE', '142'): ' 63', ('LEU', '143'): ' 64', ('ILE', '144'): ' 65', ('ALA', '145'): ' 66', ('LEU', '146'): ' 67', ('TYR', '147'): ' 68', ('VAL', '148'): ' 69', ('GLY', '149'): ' 70', ('PHE', '150'): ' 71', ('TYR', '151'): ' 72', ('TYR', '152'): ' 73', ('ASN', '153'): ' 74', ('VAL', '154'): ' 75', ('ILE', '155'): ' 76', ('ILE', '156'): ' 77', ('ALA', '157'): ' 78', ('TRP', '158'): ' 79', ('SER', '159'): ' 80', ('LEU', '160'): ' 81', ('TYR', '161'): ' 82', ('TYR', '162'): ' 83', ('LEU', '163'): ' 84', ('TYR', '214'): ' 85', ('LEU', '219'): ' 86', ('CYS', '240'): ' 87', ('LEU', '241'): ' 88', ('VAL', '243'): ' 89', ('VAL', '244'): ' 90', ('VAL', '245'): ' 91', ('ILE', '246'): ' 92', ('VAL', '247'): ' 93', ('LEU', '248'): ' 94', ('TYR', '249'): ' 95', ('PHE', '250'): ' 96', ('SER', '251'): ' 97', ('LEU', '252'): ' 98', ('TRP', '253'): ' 99', ('GLY', '255'): ' 100', ('VAL', '256'): ' 101', ('THR', '258'): ' 102', ('SER', '259'): ' 103', ('GLY', '260'): ' 104', ('VAL', '262'): ' 105', ('VAL', '263'): ' 106', ('TRP', '264'): ' 107', ('ILE', '265'): ' 108', ('THR', '266'): ' 109', ('ALA', '267'): ' 110', ('THR', '268'): ' 111', ('LEU', '269'): ' 112', ('PRO', '270'): ' 113', ('TYR', '271'): ' 114', ('PHE', '272'): ' 115', ('VAL', '273'): ' 116', ('LEU', '274'): ' 117', ('LEU', '277'): ' 118', ('TYR', '294'): ' 119', ('VAL', '307'): ' 120', ('TRP', '308'): ' 121', ('ILE', '309'): ' 122', ('ASP', '310'): ' 123', ('ALA', '311'): ' 124', ('ALA', '312'): ' 125', ('THR', '313'): ' 126', ('GLN', '314'): ' 127', ('ILE', '315'): ' 128', ('PHE', '316'): ' 129', ('PHE', '317'): ' 130', ('SER', '318'): ' 131', ('LEU', '319'): ' 132', ('GLY', '320'): ' 133', ('ALA', '321'): ' 134', ('GLY', '322'): ' 135', ('PHE', '323'): ' 136', ('GLY', '324'): ' 137', ('VAL', '325'): ' 138', ('LEU', '326'): ' 139', ('ILE', '327'): ' 140', ('ALA', '328'): ' 141', ('PHE', '329'): ' 142', ('ALA', '330'): ' 143', ('SER', '331'): ' 144', ('TYR', '332'): ' 145', ('ASN', '333'): ' 146', ('CYS', '339'): ' 147', ('ASP', '342'): ' 148', ('ALA', '343'): ' 149', ('LEU', '344'): ' 150', ('LEU', '345'): ' 151', ('THR', '346'): ' 152', ('SER', '347'): ' 153', ('SER', '348'): ' 154', ('ILE', '349'): ' 155', ('ASN', '350'): ' 156', ('CYS', '351'): ' 157', ('ILE', '352'): ' 158', ('THR', '353'): ' 159', ('SER', '354'): ' 160', ('PHE', '355'): ' 161', ('VAL', '356'): ' 162', ('SER', '357'): ' 163', ('GLY', '358'): ' 164', ('PHE', '359'): ' 165', ('ILE', '361'): ' 166', ('GLU', '382'): ' 167', ('GLY', '383'): ' 168', ('ALA', '384'): ' 169', ('GLY', '385'): ' 170', ('LEU', '386'): ' 171', ('VAL', '387'): ' 172', ('PHE', '388'): ' 173', ('TYR', '391'): ' 174', ('PRO', '392'): ' 175', ('VAL', '407'): ' 176', ('PHE', '408'): ' 177', ('PHE', '409'): ' 178', ('VAL', '410'): ' 179', ('MET', '411'): ' 180', ('LEU', '412'): ' 181', ('LEU', '413'): ' 182', ('ALA', '414'): ' 183', ('LEU', '415'): ' 184', ('GLY', '416'): ' 185', ('LEU', '417'): ' 186', ('ASP', '418'): ' 187', ('SER', '419'): ' 188', ('SER', '420'): ' 189', ('MET', '421'): ' 190', ('GLY', '422'): ' 191', ('GLY', '423'): ' 192', ('MET', '424'): ' 193', ('GLU', '425'): ' 194', ('ALA', '426'): ' 195', ('VAL', '427'): ' 196', ('ILE', '428'): ' 197', ('THR', '429'): ' 198', ('GLY', '430'): ' 199', ('LEU', '431'): ' 200', ('ALA', '432'): ' 201', ('ARG', '442'): ' 202', ('PHE', '445'): ' 203', ('THR', '446'): ' 204', ('PHE', '447'): ' 205', ('GLY', '448'): ' 206', ('VAL', '449'): ' 207', ('THR', '450'): ' 208', ('PHE', '451'): ' 209', ('SER', '452'): ' 210', ('THR', '453'): ' 211', ('PHE', '454'): ' 212', ('LEU', '455'): ' 213', ('LEU', '456'): ' 214', ('ALA', '457'): ' 215', ('LEU', '458'): ' 216', ('PHE', '459'): ' 217', ('CYS', '460'): ' 218', ('ILE', '461'): ' 219', ('GLY', '465'): ' 220', ('ILE', '466'): ' 221', ('TYR', '467'): ' 222', ('VAL', '468'): ' 223', ('LEU', '469'): ' 224', ('THR', '470'): ' 225', ('LEU', '471'): ' 226', ('LEU', '472'): ' 227', ('ASP', '473'): ' 228', ('THR', '474'): ' 229', ('PHE', '475'): ' 230', ('ALA', '476'): ' 231', ('ALA', '477'): ' 232', ('GLY', '478'): ' 233', ('THR', '479'): ' 234', ('SER', '480'): ' 235', ('ILE', '481'): ' 236', ('LEU', '482'): ' 237', ('PHE', '483'): ' 238', ('ALA', '484'): ' 239', ('VAL', '485'): ' 240', ('LEU', '486'): ' 241', ('MET', '487'): ' 242', ('GLU', '488'): ' 243', ('ALA', '489'): ' 244', ('ILE', '490'): ' 245', ('VAL', '492'): ' 246', ('TRP', '521'): ' 247', ('SER', '525'): ' 248', ('PRO', '526'): ' 249', ('PHE', '528'): ' 250', ('LEU', '529'): ' 251', ('LEU', '530'): ' 252', ('VAL', '532'): ' 253', ('VAL', '533'): ' 254', ('SER', '536'): ' 255', ('PHE', '540'): ' 256', ('LYS', '541'): ' 257', ('LEU', '543'): ' 258', ('TYR', '545'): ' 259', ('GLY', '558'): ' 260', ('GLY', '560'): ' 261', ('ILE', '561'): ' 262', ('ALA', '562'): ' 263', ('LEU', '563'): ' 264', ('SER', '564'): ' 265', ('SER', '565'): ' 266', ('MET', '566'): ' 267', ('LEU', '568'): ' 268', ('VAL', '569'): ' 269', ('POPC', '6'): ' 270', ('NA', '6'): ' 271', ('CL', '6'): ' 272', ('T3P', '6'): ' 273', ('POPC', '9'): ' 274', ('NA', '9'): ' 275', ('CL', '9'): ' 276', ('T3P', '9'): ' 277', ('POPC', '10'): ' 278', ('NA', '10'): ' 279', ('CL', '10'): ' 280', ('T3P', '10'): ' 281', ('POPC', '12'): ' 282', ('NA', '12'): ' 283', ('CL', '12'): ' 284', ('T3P', '12'): ' 285', ('POPC', '14'): ' 286', ('NA', '14'): ' 287', ('CL', '14'): ' 288', ('T3P', '14'): ' 289', ('POPC', '16'): ' 290', ('NA', '16'): ' 291', ('CL', '16'): ' 292', ('T3P', '16'): ' 293', ('POPC', '38'): ' 294', ('NA', '38'): ' 295', ('CL', '38'): ' 296', ('T3P', '38'): ' 297', ('POPC', '52'): ' 298', ('NA', '52'): ' 299', ('CL', '52'): ' 300', ('T3P', '52'): ' 301', ('POPC', '70'): ' 302', ('T3P', '70'): ' 303', ('POPC', '73'): ' 304', ('T3P', '73'): ' 305', ('POPC', '86'): ' 306', ('T3P', '86'): ' 307', ('POPC', '88'): ' 308', ('T3P', '88'): ' 309', ('T3P', '194'): ' 310', ('T3P', '263'): ' 311', ('T3P', '911'): ' 312', ('T3P', '970'): ' 313', ('T3P', '1050'): ' 314', ('T3P', '1292'): ' 315', ('T3P', '1330'): ' 316', ('T3P', '1532'): ' 317', ('T3P', '1882'): ' 318', ('T3P', '2737'): ' 319', ('T3P', '2937'): ' 320', ('T3P', '3125'): ' 321', ('T3P', '3135'): ' 322', ('T3P', '3950'): ' 323', ('T3P', '4183'): ' 324', ('T3P', '4920'): ' 325', ('T3P', '5021'): ' 326', ('T3P', '5487'): ' 327', ('T3P', '5631'): ' 328', ('T3P', '5658'): ' 329', ('T3P', '5948'): ' 330', ('T3P', '5949'): ' 331', ('T3P', '5963'): ' 332', ('T3P', '7108'): ' 333', ('T3P', '7287'): ' 334', ('T3P', '7437'): ' 335', ('T3P', '7449'): ' 336', ('T3P', '8192'): ' 337', ('T3P', '8389'): ' 338', ('T3P', '8778'): ' 339', ('T3P', '8972'): ' 340', ('T3P', '9374'): ' 341', ('T3P', '9596'): ' 342', ('T3P', 'A02O'): ' 343', ('T3P', 'A04E'): ' 344', ('T3P', 'A0N2'): ' 345', ('T3P', 'A0Z6'): ' 346', ('T3P', 'A108'): ' 347', ('T3P', 'A16P'): ' 348', ('T3P', 'A19F'): ' 349', ('T3P', 'A1AK'): ' 350', ('T3P', 'A1M7'): ' 351', ('T3P', 'A1O7'): ' 352', ('T3P', 'A1RF'): ' 353', ('T3P', 'A25R'): ' 354', ('T3P', 'A2E3'): ' 355', ('T3P', 'A2EW'): ' 356', ('T3P', 'A2QS'): ' 357', ('T3P', 'A2TX'): ' 358', ('T3P', 'A32R'): ' 359', ('T3P', 'A3CF'): ' 360', ('T3P', 'A3DI'): ' 361', ('T3P', 'A3EI'): ' 362', ('T3P', 'A3NA'): ' 363', ('T3P', 'A3SZ'): ' 364', ('T3P', 'A4V1'): ' 365', ('T3P', 'A4WB'): ' 366', ('T3P', 'A4Y2'): ' 367', ('T3P', 'A5FJ'): ' 368', ('T3P', 'A5Z6'): ' 369', ('T3P', 'A614'): ' 370', ('T3P', 'A69E'): ' 371', ('T3P', 'A6BR'): ' 372', ('T3P', 'A6C0'): ' 373', ('T3P', 'A6HN'): ' 374', ('T3P', 'A6WH'): ' 375', ('T3P', 'A6WV'): ' 376', ('T3P', 'A6YD'): ' 377', ('T3P', 'A732'): ' 378', ('T3P', 'A78A'): ' 379', ('T3P', 'A7C3'): ' 380', ('T3P', 'A7V5'): ' 381'}\n"
     ]
    }
   ],
   "source": [
    "print(final)"
   ]
  },
  {
   "cell_type": "code",
   "execution_count": 30,
   "id": "e3f9dc06-1178-4154-97a1-9e094d0d69c9",
   "metadata": {},
   "outputs": [
    {
     "ename": "KeyError",
     "evalue": "('T3P', '59')",
     "output_type": "error",
     "traceback": [
      "\u001b[0;31m---------------------------------------------------------------------------\u001b[0m",
      "\u001b[0;31mKeyError\u001b[0m                                  Traceback (most recent call last)",
      "\u001b[0;32m/var/folders/94/xz_qvz150yz6nbyfjgj46lsr0000gn/T/ipykernel_39685/931129114.py\u001b[0m in \u001b[0;36m<module>\u001b[0;34m\u001b[0m\n\u001b[0;32m----> 1\u001b[0;31m \u001b[0mprint\u001b[0m\u001b[0;34m(\u001b[0m\u001b[0mfinal\u001b[0m\u001b[0;34m[\u001b[0m\u001b[0;34m'T3P'\u001b[0m\u001b[0;34m,\u001b[0m \u001b[0;34m'59'\u001b[0m\u001b[0;34m]\u001b[0m\u001b[0;34m)\u001b[0m\u001b[0;34m\u001b[0m\u001b[0;34m\u001b[0m\u001b[0m\n\u001b[0m",
      "\u001b[0;31mKeyError\u001b[0m: ('T3P', '59')"
     ]
    }
   ],
   "source": [
    "print(final['T3P', '59'])"
   ]
  },
  {
   "cell_type": "code",
   "execution_count": 1,
   "id": "fc465d00-24e5-427d-a2f1-031adc772949",
   "metadata": {},
   "outputs": [],
   "source": [
    "y ={}"
   ]
  },
  {
   "cell_type": "code",
   "execution_count": 2,
   "id": "1f2560d0-44dd-4859-924c-d1f8da8a5e9d",
   "metadata": {},
   "outputs": [],
   "source": [
    "c=()"
   ]
  },
  {
   "cell_type": "code",
   "execution_count": 3,
   "id": "1699f9a2-16b8-486e-aa6a-c9e19b8daea7",
   "metadata": {},
   "outputs": [],
   "source": [
    "c=('1',)"
   ]
  },
  {
   "cell_type": "code",
   "execution_count": 4,
   "id": "ee0f6ffa-d7e2-41c6-b8f4-f4611ba2d0e9",
   "metadata": {},
   "outputs": [],
   "source": [
    "c=c+('2',)"
   ]
  },
  {
   "cell_type": "code",
   "execution_count": 5,
   "id": "ce355d98-6e77-4e26-8365-6d90496e4dbd",
   "metadata": {},
   "outputs": [
    {
     "name": "stdout",
     "output_type": "stream",
     "text": [
      "('1', '2')\n"
     ]
    }
   ],
   "source": [
    "print(c)"
   ]
  },
  {
   "cell_type": "code",
   "execution_count": 6,
   "id": "e92c9bf4-3597-4124-a185-4c03ec504022",
   "metadata": {},
   "outputs": [],
   "source": [
    "y[c]=7"
   ]
  },
  {
   "cell_type": "code",
   "execution_count": 7,
   "id": "ab0e58da-9da0-47d4-a695-ccf9a15226b2",
   "metadata": {},
   "outputs": [
    {
     "name": "stdout",
     "output_type": "stream",
     "text": [
      "{('1', '2'): 7}\n"
     ]
    }
   ],
   "source": [
    "print(y)"
   ]
  },
  {
   "cell_type": "code",
   "execution_count": 9,
   "id": "baf0b148-d76c-4d21-90d0-5320d88ea280",
   "metadata": {},
   "outputs": [
    {
     "name": "stdout",
     "output_type": "stream",
     "text": [
      "7\n"
     ]
    }
   ],
   "source": [
    "print(y[('1', '2')])"
   ]
  },
  {
   "cell_type": "code",
   "execution_count": 1,
   "id": "dc50a518-bcbd-4bb0-abb3-b865c4207e3e",
   "metadata": {},
   "outputs": [
    {
     "data": {
      "text/plain": [
       "'0x2710'"
      ]
     },
     "execution_count": 1,
     "metadata": {},
     "output_type": "execute_result"
    }
   ],
   "source": [
    "hex(10000)"
   ]
  },
  {
   "cell_type": "code",
   "execution_count": 2,
   "id": "9eef5862-69a1-4ea6-9e4b-5c012d049a9b",
   "metadata": {},
   "outputs": [
    {
     "data": {
      "text/plain": [
       "9999"
      ]
     },
     "execution_count": 2,
     "metadata": {},
     "output_type": "execute_result"
    }
   ],
   "source": [
    "9999"
   ]
  },
  {
   "cell_type": "code",
   "execution_count": 3,
   "id": "281307d2-f93c-4965-91ef-3f234d17ec24",
   "metadata": {},
   "outputs": [
    {
     "data": {
      "text/plain": [
       "'0xa'"
      ]
     },
     "execution_count": 3,
     "metadata": {},
     "output_type": "execute_result"
    }
   ],
   "source": [
    "hex(10)"
   ]
  },
  {
   "cell_type": "code",
   "execution_count": 4,
   "id": "d63d674f-7e22-4541-8472-5bb178a07189",
   "metadata": {},
   "outputs": [
    {
     "data": {
      "text/plain": [
       "'0x1'"
      ]
     },
     "execution_count": 4,
     "metadata": {},
     "output_type": "execute_result"
    }
   ],
   "source": [
    "hex(1)"
   ]
  },
  {
   "cell_type": "code",
   "execution_count": 8,
   "id": "2c019a27-4261-4a07-85c4-1face81ea677",
   "metadata": {},
   "outputs": [
    {
     "ename": "NameError",
     "evalue": "name 'Decimal' is not defined",
     "output_type": "error",
     "traceback": [
      "\u001b[0;31m---------------------------------------------------------------------------\u001b[0m",
      "\u001b[0;31mNameError\u001b[0m                                 Traceback (most recent call last)",
      "\u001b[0;32m/var/folders/94/xz_qvz150yz6nbyfjgj46lsr0000gn/T/ipykernel_40167/1983411976.py\u001b[0m in \u001b[0;36m<module>\u001b[0;34m\u001b[0m\n\u001b[0;32m----> 1\u001b[0;31m \u001b[0mDecimal\u001b[0m\u001b[0;34m(\u001b[0m\u001b[0mA0001\u001b[0m\u001b[0;34m)\u001b[0m\u001b[0;34m\u001b[0m\u001b[0;34m\u001b[0m\u001b[0m\n\u001b[0m",
      "\u001b[0;31mNameError\u001b[0m: name 'Decimal' is not defined"
     ]
    }
   ],
   "source": [
    "Decimal(A0001)"
   ]
  },
  {
   "cell_type": "code",
   "execution_count": 9,
   "id": "12644244-ba1b-45dc-abbf-7258d78eb882",
   "metadata": {},
   "outputs": [],
   "source": [
    "import decimal"
   ]
  },
  {
   "cell_type": "code",
   "execution_count": 11,
   "id": "bee503b7-ca72-4c93-9f64-ae228f1791b9",
   "metadata": {},
   "outputs": [
    {
     "ename": "InvalidOperation",
     "evalue": "[<class 'decimal.ConversionSyntax'>]",
     "output_type": "error",
     "traceback": [
      "\u001b[0;31m---------------------------------------------------------------------------\u001b[0m",
      "\u001b[0;31mInvalidOperation\u001b[0m                          Traceback (most recent call last)",
      "\u001b[0;32m/var/folders/94/xz_qvz150yz6nbyfjgj46lsr0000gn/T/ipykernel_40167/708299688.py\u001b[0m in \u001b[0;36m<module>\u001b[0;34m\u001b[0m\n\u001b[0;32m----> 1\u001b[0;31m \u001b[0mdecimal\u001b[0m\u001b[0;34m.\u001b[0m\u001b[0mDecimal\u001b[0m\u001b[0;34m(\u001b[0m\u001b[0;34m'A000'\u001b[0m\u001b[0;34m)\u001b[0m\u001b[0;34m\u001b[0m\u001b[0;34m\u001b[0m\u001b[0m\n\u001b[0m",
      "\u001b[0;31mInvalidOperation\u001b[0m: [<class 'decimal.ConversionSyntax'>]"
     ]
    }
   ],
   "source": [
    "decimal.Decimal('A000')"
   ]
  },
  {
   "cell_type": "code",
   "execution_count": 12,
   "id": "57397eeb-bd05-4478-9516-b386d6254f4e",
   "metadata": {},
   "outputs": [
    {
     "ename": "NameError",
     "evalue": "name 'A000' is not defined",
     "output_type": "error",
     "traceback": [
      "\u001b[0;31m---------------------------------------------------------------------------\u001b[0m",
      "\u001b[0;31mNameError\u001b[0m                                 Traceback (most recent call last)",
      "\u001b[0;32m/var/folders/94/xz_qvz150yz6nbyfjgj46lsr0000gn/T/ipykernel_40167/697124478.py\u001b[0m in \u001b[0;36m<module>\u001b[0;34m\u001b[0m\n\u001b[0;32m----> 1\u001b[0;31m \u001b[0mA000\u001b[0m\u001b[0;34m\u001b[0m\u001b[0;34m\u001b[0m\u001b[0m\n\u001b[0m",
      "\u001b[0;31mNameError\u001b[0m: name 'A000' is not defined"
     ]
    }
   ],
   "source": [
    "A000"
   ]
  },
  {
   "cell_type": "code",
   "execution_count": 13,
   "id": "b7ccfe8a-eea4-4028-8364-c0f61b3e942c",
   "metadata": {},
   "outputs": [
    {
     "ename": "NameError",
     "evalue": "name 'A000' is not defined",
     "output_type": "error",
     "traceback": [
      "\u001b[0;31m---------------------------------------------------------------------------\u001b[0m",
      "\u001b[0;31mNameError\u001b[0m                                 Traceback (most recent call last)",
      "\u001b[0;32m/var/folders/94/xz_qvz150yz6nbyfjgj46lsr0000gn/T/ipykernel_40167/697124478.py\u001b[0m in \u001b[0;36m<module>\u001b[0;34m\u001b[0m\n\u001b[0;32m----> 1\u001b[0;31m \u001b[0mA000\u001b[0m\u001b[0;34m\u001b[0m\u001b[0;34m\u001b[0m\u001b[0m\n\u001b[0m",
      "\u001b[0;31mNameError\u001b[0m: name 'A000' is not defined"
     ]
    }
   ],
   "source": [
    "A000"
   ]
  },
  {
   "cell_type": "code",
   "execution_count": null,
   "id": "4708ec53-3f5a-41c2-9665-c13e6d829557",
   "metadata": {},
   "outputs": [],
   "source": [
    "A000\n",
    "A001\n",
    "A002\n",
    ".\n",
    ".\n",
    ".\n",
    "A010\n",
    ".\n",
    ".\n",
    ".\n",
    "A999\n",
    "B000"
   ]
  },
  {
   "cell_type": "code",
   "execution_count": null,
   "id": "306987d8-ab69-48bc-b6ed-2509c1c080d9",
   "metadata": {},
   "outputs": [],
   "source": [
    "AB00\n",
    "ZZZZ"
   ]
  },
  {
   "cell_type": "code",
   "execution_count": 11,
   "id": "b05fe700-169e-4fc1-a186-538afd3b091b",
   "metadata": {},
   "outputs": [],
   "source": [
    "f=['A','B','C','D','E','F','G','H','I','J','K','L','M','N','O','P','Q','R','S','T','U','V','W','X','Y','Z','a','b','c','d','e','f','g','h','i','j','k','l','m','n','o','p','q','r','s','t','u','v','w','x','y','z']"
   ]
  },
  {
   "cell_type": "code",
   "execution_count": 12,
   "id": "3b6001ed-8f56-42ba-9807-2419f9ec7a75",
   "metadata": {},
   "outputs": [
    {
     "data": {
      "text/plain": [
       "52"
      ]
     },
     "execution_count": 12,
     "metadata": {},
     "output_type": "execute_result"
    }
   ],
   "source": [
    "len(f)"
   ]
  },
  {
   "cell_type": "code",
   "execution_count": 13,
   "id": "63aa8141-c259-4609-b7cd-a69d939748dd",
   "metadata": {},
   "outputs": [],
   "source": [
    "import random"
   ]
  },
  {
   "cell_type": "code",
   "execution_count": 14,
   "id": "ab997cd3-436b-4920-8c1b-6ac5ed66e6fb",
   "metadata": {},
   "outputs": [
    {
     "data": {
      "text/plain": [
       "['Q', 't', 'O', 'e']"
      ]
     },
     "execution_count": 14,
     "metadata": {},
     "output_type": "execute_result"
    }
   ],
   "source": [
    "random.sample(f,4)"
   ]
  },
  {
   "cell_type": "code",
   "execution_count": 24,
   "id": "ea90e41a-90d5-49d1-b4f2-4ec40cd8b3ad",
   "metadata": {},
   "outputs": [
    {
     "data": {
      "text/plain": [
       "0"
      ]
     },
     "execution_count": 24,
     "metadata": {},
     "output_type": "execute_result"
    }
   ],
   "source": [
    "10000 % 10000"
   ]
  },
  {
   "cell_type": "code",
   "execution_count": 25,
   "id": "17b8ec59-c7ff-4837-bc2b-19910a941372",
   "metadata": {},
   "outputs": [
    {
     "data": {
      "text/plain": [
       "1"
      ]
     },
     "execution_count": 25,
     "metadata": {},
     "output_type": "execute_result"
    }
   ],
   "source": [
    "10001 % 10000"
   ]
  },
  {
   "cell_type": "code",
   "execution_count": 26,
   "id": "55936ee0-7e78-4221-aefc-db4a3a25db67",
   "metadata": {},
   "outputs": [
    {
     "data": {
      "text/plain": [
       "2"
      ]
     },
     "execution_count": 26,
     "metadata": {},
     "output_type": "execute_result"
    }
   ],
   "source": [
    "10002 % 10000"
   ]
  },
  {
   "cell_type": "code",
   "execution_count": 27,
   "id": "2f3d5725-162c-4401-bcec-e1baa8f9d73b",
   "metadata": {},
   "outputs": [
    {
     "ename": "NameError",
     "evalue": "name 'A999' is not defined",
     "output_type": "error",
     "traceback": [
      "\u001b[0;31m---------------------------------------------------------------------------\u001b[0m",
      "\u001b[0;31mNameError\u001b[0m                                 Traceback (most recent call last)",
      "\u001b[0;32m/var/folders/94/xz_qvz150yz6nbyfjgj46lsr0000gn/T/ipykernel_40167/1120903087.py\u001b[0m in \u001b[0;36m<module>\u001b[0;34m\u001b[0m\n\u001b[0;32m----> 1\u001b[0;31m \u001b[0mA999\u001b[0m\u001b[0;34m\u001b[0m\u001b[0;34m\u001b[0m\u001b[0m\n\u001b[0m",
      "\u001b[0;31mNameError\u001b[0m: name 'A999' is not defined"
     ]
    }
   ],
   "source": [
    "A999"
   ]
  },
  {
   "cell_type": "code",
   "execution_count": 1,
   "id": "e8723c1a-4ca7-42db-9616-e536376d9a67",
   "metadata": {},
   "outputs": [
    {
     "data": {
      "text/plain": [
       "'A3'"
      ]
     },
     "execution_count": 1,
     "metadata": {},
     "output_type": "execute_result"
    }
   ],
   "source": [
    "'A'  + str((10003 % 10000))"
   ]
  },
  {
   "cell_type": "code",
   "execution_count": 33,
   "id": "89b3420b-7dc2-438a-9533-ae3144161e1b",
   "metadata": {},
   "outputs": [
    {
     "data": {
      "text/plain": [
       "'B390'"
      ]
     },
     "execution_count": 33,
     "metadata": {},
     "output_type": "execute_result"
    }
   ],
   "source": [
    "'B' + str((20390 % 10000))"
   ]
  },
  {
   "cell_type": "code",
   "execution_count": 34,
   "id": "1c447bf9-e41c-488f-80f2-65b610928755",
   "metadata": {},
   "outputs": [],
   "source": [
    "f1=['A','B','C','D','E','F','G','H','I','J','K','L','M','N','O','P','Q','R','S','T','U','V','W','X','Y','Z']"
   ]
  },
  {
   "cell_type": "code",
   "execution_count": 42,
   "id": "ab8f9665-cb18-4127-b003-6e9033701e96",
   "metadata": {},
   "outputs": [],
   "source": [
    "r3={}\n",
    "i3=1"
   ]
  },
  {
   "cell_type": "code",
   "execution_count": 47,
   "id": "b8e1df73-1a11-4d91-9871-8e74568fae1a",
   "metadata": {},
   "outputs": [],
   "source": [
    "for l in f1:\n",
    "    r3[i3] = l\n",
    "    i3 = i3 + 1"
   ]
  },
  {
   "cell_type": "code",
   "execution_count": 48,
   "id": "8a633a74-71b1-406e-8cf1-e128b751d1cd",
   "metadata": {},
   "outputs": [
    {
     "name": "stdout",
     "output_type": "stream",
     "text": [
      "{53: 'Z', 27: 'A', 28: 'B', 29: 'C', 30: 'D', 31: 'E', 32: 'F', 33: 'G', 34: 'H', 35: 'I', 36: 'J', 37: 'K', 38: 'L', 39: 'M', 40: 'N', 41: 'O', 42: 'P', 43: 'Q', 44: 'R', 45: 'S', 46: 'T', 47: 'U', 48: 'V', 49: 'W', 50: 'X', 51: 'Y', 52: 'Z'}\n"
     ]
    }
   ],
   "source": [
    "print(r3)"
   ]
  },
  {
   "cell_type": "code",
   "execution_count": 49,
   "id": "a7f6e151-350f-4964-ae3c-6f5225e91312",
   "metadata": {},
   "outputs": [],
   "source": [
    "r3={}\n",
    "i3=1\n",
    "for l in f1:\n",
    "    r3[i3] = l\n",
    "    i3 = i3 + 1"
   ]
  },
  {
   "cell_type": "code",
   "execution_count": 50,
   "id": "340dbe30-05f7-4d80-a79a-71c20a2942f6",
   "metadata": {},
   "outputs": [
    {
     "name": "stdout",
     "output_type": "stream",
     "text": [
      "{1: 'A', 2: 'B', 3: 'C', 4: 'D', 5: 'E', 6: 'F', 7: 'G', 8: 'H', 9: 'I', 10: 'J', 11: 'K', 12: 'L', 13: 'M', 14: 'N', 15: 'O', 16: 'P', 17: 'Q', 18: 'R', 19: 'S', 20: 'T', 21: 'U', 22: 'V', 23: 'W', 24: 'X', 25: 'Y', 26: 'Z'}\n"
     ]
    }
   ],
   "source": [
    "print(r3)"
   ]
  },
  {
   "cell_type": "code",
   "execution_count": 51,
   "id": "9cf73755-b451-46c1-b375-5ccc9de160da",
   "metadata": {},
   "outputs": [],
   "source": [
    "r3={}\n",
    "i3=1\n",
    "for l in f1:\n",
    "    r3[str(i3)] = l\n",
    "    i3 = i3 + 1"
   ]
  },
  {
   "cell_type": "code",
   "execution_count": 52,
   "id": "2b2eca73-3739-4627-8485-7d45a47c4012",
   "metadata": {},
   "outputs": [
    {
     "name": "stdout",
     "output_type": "stream",
     "text": [
      "{'1': 'A', '2': 'B', '3': 'C', '4': 'D', '5': 'E', '6': 'F', '7': 'G', '8': 'H', '9': 'I', '10': 'J', '11': 'K', '12': 'L', '13': 'M', '14': 'N', '15': 'O', '16': 'P', '17': 'Q', '18': 'R', '19': 'S', '20': 'T', '21': 'U', '22': 'V', '23': 'W', '24': 'X', '25': 'Y', '26': 'Z'}\n"
     ]
    }
   ],
   "source": [
    "print(r3)"
   ]
  },
  {
   "cell_type": "code",
   "execution_count": null,
   "id": "3d2c8e06-a9c4-4843-954b-1ee39004848a",
   "metadata": {},
   "outputs": [],
   "source": []
  }
 ],
 "metadata": {
  "kernelspec": {
   "display_name": "Python 3 (ipykernel)",
   "language": "python",
   "name": "python3"
  },
  "language_info": {
   "codemirror_mode": {
    "name": "ipython",
    "version": 3
   },
   "file_extension": ".py",
   "mimetype": "text/x-python",
   "name": "python",
   "nbconvert_exporter": "python",
   "pygments_lexer": "ipython3",
   "version": "3.9.7"
  }
 },
 "nbformat": 4,
 "nbformat_minor": 5
}
