{
 "cells": [
  {
   "cell_type": "code",
   "execution_count": 1,
   "id": "a2e077a9-61d3-44a4-9988-c8a84804acc5",
   "metadata": {},
   "outputs": [],
   "source": [
    "list=[]\n",
    "i=1"
   ]
  },
  {
   "cell_type": "code",
   "execution_count": 2,
   "id": "863e5341-356d-4da9-8164-d648945e0cb5",
   "metadata": {},
   "outputs": [],
   "source": [
    "list.append(i)"
   ]
  },
  {
   "cell_type": "code",
   "execution_count": 3,
   "id": "12e36de5-b8d9-4dd9-9aa2-4a50badbd932",
   "metadata": {},
   "outputs": [
    {
     "name": "stdout",
     "output_type": "stream",
     "text": [
      "[1]\n"
     ]
    }
   ],
   "source": [
    "print(list)"
   ]
  },
  {
   "cell_type": "code",
   "execution_count": 1,
   "id": "625e8ff1-d16a-4ae7-abd1-531d90ad2491",
   "metadata": {},
   "outputs": [
    {
     "ename": "TypeError",
     "evalue": "'str' object does not support item assignment",
     "output_type": "error",
     "traceback": [
      "\u001b[0;31m---------------------------------------------------------------------------\u001b[0m",
      "\u001b[0;31mTypeError\u001b[0m                                 Traceback (most recent call last)",
      "\u001b[0;32m/var/folders/94/xz_qvz150yz6nbyfjgj46lsr0000gn/T/ipykernel_18389/3952284803.py\u001b[0m in \u001b[0;36m<module>\u001b[0;34m\u001b[0m\n\u001b[1;32m      4\u001b[0m \u001b[0;34m\u001b[0m\u001b[0m\n\u001b[1;32m      5\u001b[0m \u001b[0;32mfor\u001b[0m \u001b[0mi\u001b[0m \u001b[0;32min\u001b[0m \u001b[0mrange\u001b[0m\u001b[0;34m(\u001b[0m\u001b[0mlen\u001b[0m\u001b[0;34m(\u001b[0m\u001b[0ms1\u001b[0m\u001b[0;34m)\u001b[0m\u001b[0;34m)\u001b[0m\u001b[0;34m:\u001b[0m\u001b[0;34m\u001b[0m\u001b[0;34m\u001b[0m\u001b[0m\n\u001b[0;32m----> 6\u001b[0;31m     \u001b[0ms2\u001b[0m\u001b[0;34m[\u001b[0m\u001b[0mj\u001b[0m\u001b[0;34m]\u001b[0m \u001b[0;34m=\u001b[0m \u001b[0ms1\u001b[0m\u001b[0;34m[\u001b[0m\u001b[0mi\u001b[0m\u001b[0;34m]\u001b[0m\u001b[0;34m\u001b[0m\u001b[0;34m\u001b[0m\u001b[0m\n\u001b[0m\u001b[1;32m      7\u001b[0m     \u001b[0mj\u001b[0m \u001b[0;34m=\u001b[0m \u001b[0mj\u001b[0m \u001b[0;34m+\u001b[0m \u001b[0;36m1\u001b[0m\u001b[0;34m\u001b[0m\u001b[0;34m\u001b[0m\u001b[0m\n",
      "\u001b[0;31mTypeError\u001b[0m: 'str' object does not support item assignment"
     ]
    }
   ],
   "source": [
    "s1 = \"Hello World\"\n",
    "s2 = \"\"\n",
    "j = 0\n",
    "\n",
    "for i in range(len(s1)):\n",
    "    s2[j] = s1[i]\n",
    "    j = j + 1"
   ]
  },
  {
   "cell_type": "code",
   "execution_count": 2,
   "id": "3a5ebeaa-24e7-40cb-a805-dcf3a072b63a",
   "metadata": {},
   "outputs": [],
   "source": [
    "for c in s1:\n",
    "    s2 += c"
   ]
  },
  {
   "cell_type": "code",
   "execution_count": 3,
   "id": "fedc3de2-3826-494b-9681-8b68f8b1d3ab",
   "metadata": {},
   "outputs": [],
   "source": [
    "for c in s1:\n",
    "    s2 = s2 + c"
   ]
  },
  {
   "cell_type": "code",
   "execution_count": 4,
   "id": "05b5b601-5d5f-4f13-9e20-cb56e02ee439",
   "metadata": {},
   "outputs": [
    {
     "name": "stdout",
     "output_type": "stream",
     "text": [
      "mystrung\n"
     ]
    },
    {
     "data": {
      "text/plain": [
       "str"
      ]
     },
     "execution_count": 4,
     "metadata": {},
     "output_type": "execute_result"
    }
   ],
   "source": [
    "str1 = \"mystring\"\n",
    "list1 = list(str1)\n",
    "list1[5] = 'u'\n",
    "str1 = ''.join(list1)\n",
    "print(str1)\n",
    "\n",
    "type(str1)\n"
   ]
  },
  {
   "cell_type": "code",
   "execution_count": null,
   "id": "c02d3273-a2b7-4768-b2d4-cd1bd9eb90a8",
   "metadata": {},
   "outputs": [],
   "source": []
  }
 ],
 "metadata": {
  "kernelspec": {
   "display_name": "Python 3 (ipykernel)",
   "language": "python",
   "name": "python3"
  },
  "language_info": {
   "codemirror_mode": {
    "name": "ipython",
    "version": 3
   },
   "file_extension": ".py",
   "mimetype": "text/x-python",
   "name": "python",
   "nbconvert_exporter": "python",
   "pygments_lexer": "ipython3",
   "version": "3.9.7"
  }
 },
 "nbformat": 4,
 "nbformat_minor": 5
}
