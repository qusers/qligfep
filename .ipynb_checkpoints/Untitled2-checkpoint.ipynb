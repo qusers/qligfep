{
 "cells": [
  {
   "cell_type": "code",
   "execution_count": 29,
   "id": "b8c7387b-7ef5-4d77-a521-35fd23300652",
   "metadata": {},
   "outputs": [],
   "source": [
    "import re\n",
    "import shlex\n",
    "from subprocess import check_output\n",
    "import os\n",
    "import stat\n",
    "from xml.etree.ElementInclude import include\n",
    "import numpy as np\n",
    "\n",
    "import functions as f\n",
    "import settings as s\n",
    "import IO\n",
    "\n",
    "distance= 40\n",
    "coord1 = 0.919,0.61,-2.808\n",
    "\n",
    "with open('ISO1_GIFT1215_1_prot.pdb') as infile, \\\n",
    "     open('test.pdb', 'w') as outfile:\n",
    "    for line in infile:\n",
    "        #if line.startswith(include):\n",
    "        line = IO.pdb_parse_in(line)\n",
    "        if type(line) == list:\n",
    "            coord2 = list(line[8:11])\n",
    "            res_num = list(line[6:7])\n",
    "            mm = res_num\n",
    "           # print (mm)\n",
    "            len (mm)\n",
    "           # print(res_num, coord2, f.euclidian_overlap(coord1,coord2,distance))\n",
    "\n",
    "            # then back to string for writing\n",
    "            outline = IO.pdb_parse_out(line)\n",
    "\n",
    "        else:\n",
    "            outline = line\n",
    "\n",
    "        # block of code that checks whether it is in\n",
    "\n",
    "\n",
    "            "
   ]
  },
  {
   "cell_type": "code",
   "execution_count": 16,
   "id": "ab886ca0-6c08-4db5-b1b1-bcd5f2208656",
   "metadata": {},
   "outputs": [
    {
     "name": "stdout",
     "output_type": "stream",
     "text": [
      "END   \n"
     ]
    }
   ],
   "source": [
    "print (outline)"
   ]
  },
  {
   "cell_type": "code",
   "execution_count": 17,
   "id": "82606266-d3c5-4817-8f3c-98fe6e8b338e",
   "metadata": {},
   "outputs": [
    {
     "data": {
      "text/plain": [
       "'END   '"
      ]
     },
     "execution_count": 17,
     "metadata": {},
     "output_type": "execute_result"
    }
   ],
   "source": [
    "outline"
   ]
  },
  {
   "cell_type": "code",
   "execution_count": 18,
   "id": "3d07e002-18af-4fae-b3ff-0f824342280b",
   "metadata": {},
   "outputs": [
    {
     "ename": "FileNotFoundError",
     "evalue": "[Errno 2] No such file or directory: 'outline'",
     "output_type": "error",
     "traceback": [
      "\u001b[0;31m---------------------------------------------------------------------------\u001b[0m",
      "\u001b[0;31mFileNotFoundError\u001b[0m                         Traceback (most recent call last)",
      "\u001b[0;32m/var/folders/94/xz_qvz150yz6nbyfjgj46lsr0000gn/T/ipykernel_37896/1127905374.py\u001b[0m in \u001b[0;36m<module>\u001b[0;34m\u001b[0m\n\u001b[1;32m      1\u001b[0m \u001b[0ma_dictionary\u001b[0m \u001b[0;34m=\u001b[0m \u001b[0;34m{\u001b[0m\u001b[0;34m}\u001b[0m\u001b[0;34m\u001b[0m\u001b[0;34m\u001b[0m\u001b[0m\n\u001b[0;32m----> 2\u001b[0;31m \u001b[0ma_file\u001b[0m \u001b[0;34m=\u001b[0m \u001b[0mopen\u001b[0m\u001b[0;34m(\u001b[0m\u001b[0;34m\"outline\"\u001b[0m\u001b[0;34m)\u001b[0m\u001b[0;34m\u001b[0m\u001b[0;34m\u001b[0m\u001b[0m\n\u001b[0m\u001b[1;32m      3\u001b[0m \u001b[0;32mfor\u001b[0m \u001b[0mline\u001b[0m \u001b[0;32min\u001b[0m \u001b[0ma_file\u001b[0m\u001b[0;34m:\u001b[0m\u001b[0;34m\u001b[0m\u001b[0;34m\u001b[0m\u001b[0m\n\u001b[1;32m      4\u001b[0m     \u001b[0mkey\u001b[0m\u001b[0;34m,\u001b[0m \u001b[0mvalue\u001b[0m \u001b[0;34m=\u001b[0m \u001b[0mline\u001b[0m\u001b[0;34m.\u001b[0m\u001b[0msplit\u001b[0m\u001b[0;34m(\u001b[0m\u001b[0;34m)\u001b[0m\u001b[0;34m\u001b[0m\u001b[0;34m\u001b[0m\u001b[0m\n\u001b[1;32m      5\u001b[0m \u001b[0;34m\u001b[0m\u001b[0m\n",
      "\u001b[0;31mFileNotFoundError\u001b[0m: [Errno 2] No such file or directory: 'outline'"
     ]
    }
   ],
   "source": [
    "a_dictionary = {}\n",
    "a_file = open(\"outline\")\n",
    "for line in a_file:\n",
    "    key, value = line.split()\n",
    "\n",
    "\n",
    "    a_dictionary[key] = value\n",
    "\n",
    "print(a_dictionary)"
   ]
  },
  {
   "cell_type": "code",
   "execution_count": null,
   "id": "4ce00aee-ecdf-4904-9f5c-b5fb071f19e0",
   "metadata": {},
   "outputs": [],
   "source": []
  }
 ],
 "metadata": {
  "kernelspec": {
   "display_name": "Python 3 (ipykernel)",
   "language": "python",
   "name": "python3"
  },
  "language_info": {
   "codemirror_mode": {
    "name": "ipython",
    "version": 3
   },
   "file_extension": ".py",
   "mimetype": "text/x-python",
   "name": "python",
   "nbconvert_exporter": "python",
   "pygments_lexer": "ipython3",
   "version": "3.9.7"
  }
 },
 "nbformat": 4,
 "nbformat_minor": 5
}
