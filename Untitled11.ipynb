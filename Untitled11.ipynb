{
 "cells": [
  {
   "cell_type": "code",
   "execution_count": 2,
   "id": "cb876065-b751-40e6-9a7a-13d303b47784",
   "metadata": {},
   "outputs": [
    {
     "name": "stdout",
     "output_type": "stream",
     "text": [
      "[['ATOM  ', 1164, 'CG', ' ', 'ASP', 'A', '  75', ' ', 3.474, 3.023, -5.983, 1.0, 92.58, ' C', '  ']]\n",
      "[['ATOM  ', 1165, 'OD1', ' ', 'ASP', 'A', '  75', ' ', 3.236, 2.049, -6.726, 1.0, 92.58, ' O', '  ']]\n",
      "[['ATOM  ', 1166, 'OD2', ' ', 'ASP', 'A', '  75', ' ', 2.695, 3.492, -5.173, 1.0, 92.58, ' O', '1-']]\n",
      "[['ATOM  ', 1198, 'HB2', ' ', 'ALA', 'A', '  77', ' ', 0.684, 2.101, -7.501, 1.0, 0.0, ' H', '  ']]\n",
      "[['ATOM  ', 2345, 'HG13', ' ', 'VAL', 'A', ' 148', ' ', -2.166, -3.001, -1.892, 1.0, 0.0, ' H', '  ']]\n",
      "[['ATOM  ', 2348, 'HG23', ' ', 'VAL', 'A', ' 148', ' ', -0.029, -3.58, -0.802, 1.0, 0.0, ' H', '  ']]\n",
      "[['ATOM  ', 5133, 'CE2', ' ', 'PHE', 'A', ' 323', ' ', -1.813, -0.512, 1.182, 1.0, 91.82, ' C', '  ']]\n",
      "[['ATOM  ', 5134, 'CZ', ' ', 'PHE', 'A', ' 323', ' ', -2.735, -0.22, 0.135, 1.0, 91.82, ' C', '  ']]\n",
      "[['ATOM  ', 5143, 'HZ', ' ', 'PHE', 'A', ' 323', ' ', -2.913, -0.937, -0.653, 1.0, 0.0, ' H', '  ']]\n",
      "[['ATOM  ', 6595, 'OG', ' ', 'SER', 'A', ' 419', ' ', 4.976, 1.814, -2.759, 1.0, 95.17, ' O', '  ']]\n",
      "[['ATOM  ', 6600, 'HG', ' ', 'SER', 'A', ' 419', ' ', 5.117, 2.711, -2.494, 1.0, 0.0, ' H', '  ']]\n"
     ]
    }
   ],
   "source": [
    "import re\n",
    "import shlex\n",
    "from subprocess import check_output\n",
    "import os\n",
    "import stat\n",
    "from xml.etree.ElementInclude import include\n",
    "import numpy as np\n",
    "\n",
    "import functions as f\n",
    "import settings as s\n",
    "import IO\n",
    "from itertools import chain\n",
    "\n",
    "\n",
    "distance= 5\n",
    "coord1 = 0.919,0.61,-2.808\n",
    "\n",
    "with open('ISO1_GIFT1215_1_prot.pdb') as infile, \\\n",
    "     open('try5.pdb', 'w') as outfile:\n",
    "     for line in infile:\n",
    "        #if line.startswith(include):\n",
    "        line = IO.pdb_parse_in(line)\n",
    "        \n",
    "        if type(line) == list:\n",
    "            coord2 = tuple(line[8:11])\n",
    "            #chain_id = tuple(line[5])\n",
    "            #print(line)\n",
    "            to_keep = {}\n",
    "            \n",
    "                    #print(line)\n",
    "            if f.euclidian_overlap(coord1, coord2, distance) == True:\n",
    "                lst = []\n",
    "                lst.append(line)\n",
    "                #print(line)\n",
    "                if line[5] not in to_keep:\n",
    "                    to_keep[line[5]]=[]\n",
    "                to_keep[line[5]].append(line[6])   \n",
    "                \n",
    "                #print(to_keep)\n",
    "                #print(to_keep[line[6]])\n",
    "            #print(line[6])\n",
    "            \n",
    "            #print(line)   \n",
    "            end_list=[]\n",
    "            if line[5] not in to_keep:\n",
    "                    to_keep[line[5]]=[]\n",
    "            \n",
    "            if [line[6]]==to_keep[line[5]]:\n",
    "                #print(line[6])\n",
    "                #print(to_keep[line[5]])\n",
    "                end_list.append(line)\n",
    "                print(end_list)\n",
    "                    \n",
    "\n",
    "            \n",
    "            # then back to string for writing\n",
    "              #  outline = IO.pdb_parse_out(line)\n",
    "\n",
    "            #else:\n",
    "             #   outline = line\n",
    "\n",
    "        # block of code that checks whether it is in\n",
    "\n",
    "#this writes out the pdb file that gets created\n",
    "           # outfile.write(outline  + '\\n')"
   ]
  },
  {
   "cell_type": "code",
   "execution_count": null,
   "id": "6b41dd3a-6531-4f4e-99c8-e82cf792c142",
   "metadata": {},
   "outputs": [],
   "source": []
  }
 ],
 "metadata": {
  "kernelspec": {
   "display_name": "Python 3 (ipykernel)",
   "language": "python",
   "name": "python3"
  },
  "language_info": {
   "codemirror_mode": {
    "name": "ipython",
    "version": 3
   },
   "file_extension": ".py",
   "mimetype": "text/x-python",
   "name": "python",
   "nbconvert_exporter": "python",
   "pygments_lexer": "ipython3",
   "version": "3.9.7"
  }
 },
 "nbformat": 4,
 "nbformat_minor": 5
}
