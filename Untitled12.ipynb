{
 "cells": [
  {
   "cell_type": "code",
   "execution_count": 1,
   "id": "7dde5b06-5ee8-4103-9843-c5be2e46933f",
   "metadata": {},
   "outputs": [],
   "source": [
    "from calendar import c\n",
    "import re\n",
    "import shlex\n",
    "from subprocess import check_output\n",
    "import os\n",
    "import stat\n",
    "from xml.etree.ElementInclude import include\n",
    "import numpy as np\n",
    "\n",
    "import functions as f\n",
    "import settings as s\n",
    "import IO\n",
    "from itertools import chain\n",
    "\n",
    "\n",
    "distance= 5\n",
    "coord1 = 0.919,0.61,-2.808\n",
    "to_keep = {}\n",
    "end_list=[]\n",
    "\n",
    "with open('ISO1_GIFT1215_1_prot.pdb') as infile, \\\n",
    "     open('try5.pdb', 'w') as outfile:\n",
    "     for line in infile:\n",
    "        #if line.startswith(include):\n",
    "        line = IO.pdb_parse_in(line)\n",
    "        \n",
    "        if type(line) == list:\n",
    "            coord2 = tuple(line[8:11])\n",
    "            chain_id = line[5]\n",
    "            resnum = line[6]\n",
    "            combo = line[5:7]\n",
    "        \n",
    "            \n",
    "           # print(line)\n",
    "            if f.euclidian_overlap(coord1, coord2, distance) == True:\n",
    "                lst = []\n",
    "                lst.append(line)\n",
    "         #       print(line)               \n",
    "                if chain_id not in to_keep:\n",
    "                    to_keep[chain_id]=[]\n",
    "                to_keep[chain_id].append(resnum)\n",
    "      #          print(to_keep)   \n",
    "            if chain_id not in to_keep:\n",
    "                to_keep[chain_id]=[]\n",
    "                \n",
    "                if resnum in to_keep[chain_id]:\n",
    "                    end_list.append(line)\n",
    "                    print(end_list)\n",
    "                    \n",
    " "
   ]
  },
  {
   "cell_type": "code",
   "execution_count": null,
   "id": "5165dca3-1eb2-4f98-8399-2753fe093a35",
   "metadata": {},
   "outputs": [],
   "source": []
  }
 ],
 "metadata": {
  "kernelspec": {
   "display_name": "Python 3 (ipykernel)",
   "language": "python",
   "name": "python3"
  },
  "language_info": {
   "codemirror_mode": {
    "name": "ipython",
    "version": 3
   },
   "file_extension": ".py",
   "mimetype": "text/x-python",
   "name": "python",
   "nbconvert_exporter": "python",
   "pygments_lexer": "ipython3",
   "version": "3.9.7"
  }
 },
 "nbformat": 4,
 "nbformat_minor": 5
}
