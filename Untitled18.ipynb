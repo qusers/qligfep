{
 "cells": [
  {
   "cell_type": "code",
   "execution_count": 6,
   "id": "62dbc5c7-86e5-46c3-b278-c1c9bfc5f355",
   "metadata": {},
   "outputs": [
    {
     "name": "stdout",
     "output_type": "stream",
     "text": [
      "G17 G\n"
     ]
    }
   ],
   "source": [
    "lines=['G17 G3 X387.9385 Y200.0000 Z268.4040 R187.9385',\n",
    "  'G17 G3 X200.0000 Y387.9385 Z268.4040 R187.9385',\n",
    "  'G17 G3 X200.0000 Y387.9385 Z268.4040 R187.9385',\n",
    "  'G17 G3 X200.0000 Y353.2089 Z328.5575 R153.2089']\n",
    "print(lines[0][0:5])\n",
    "def lines_equal(curr_line, prev_line, compare_char):\n",
    "    curr_line_parts = curr_line\n",
    "    prev_line_parts = prev_line\n",
    "\n",
    "    for item in zip(curr_line_parts, prev_line_parts):\n",
    "        if item[0].startswith(compare_char):\n",
    "              return item[0] == item[1]\n",
    "\n",
    "results = []\n",
    "prev_line = lines[0]\n",
    "\n",
    "for line in lines[1:]:\n",
    "#    print(lines[1:])\n",
    "    results.append(lines_equal(line, prev_line, 'Z'))\n",
    "    prev_line = line\n",
    "\n",
    "#print(results)"
   ]
  },
  {
   "cell_type": "code",
   "execution_count": 3,
   "id": "5e842102-4adc-40ba-ad24-7b8326174e7e",
   "metadata": {},
   "outputs": [
    {
     "name": "stdout",
     "output_type": "stream",
     "text": [
      "['apple', 'banana', 'cherry', 'orange']\n"
     ]
    }
   ],
   "source": [
    "txt = \"apple#banana#cherry#orange\"\n",
    "\n",
    "x = txt.split(\"#\")\n",
    "\n",
    "print(x)"
   ]
  },
  {
   "cell_type": "code",
   "execution_count": 2,
   "id": "3f3dd2cc-56a4-48b0-ace6-a3e9686321ab",
   "metadata": {},
   "outputs": [
    {
     "ename": "FileNotFoundError",
     "evalue": "[Errno 2] No such file or directory: 'apple.txt'",
     "output_type": "error",
     "traceback": [
      "\u001b[0;31m---------------------------------------------------------------------------\u001b[0m",
      "\u001b[0;31mFileNotFoundError\u001b[0m                         Traceback (most recent call last)",
      "\u001b[0;32m/var/folders/94/xz_qvz150yz6nbyfjgj46lsr0000gn/T/ipykernel_27696/2113293270.py\u001b[0m in \u001b[0;36m<module>\u001b[0;34m\u001b[0m\n\u001b[0;32m----> 1\u001b[0;31m \u001b[0mtxt_file\u001b[0m \u001b[0;34m=\u001b[0m \u001b[0mopen\u001b[0m\u001b[0;34m(\u001b[0m\u001b[0;34m\"apple.txt\"\u001b[0m\u001b[0;34m,\u001b[0m \u001b[0;34m\"r\"\u001b[0m\u001b[0;34m)\u001b[0m\u001b[0;34m\u001b[0m\u001b[0;34m\u001b[0m\u001b[0m\n\u001b[0m\u001b[1;32m      2\u001b[0m \u001b[0mfile_content\u001b[0m \u001b[0;34m=\u001b[0m \u001b[0mtxt_file\u001b[0m\u001b[0;34m.\u001b[0m\u001b[0mread\u001b[0m\u001b[0;34m(\u001b[0m\u001b[0;34m)\u001b[0m\u001b[0;34m\u001b[0m\u001b[0;34m\u001b[0m\u001b[0m\n\u001b[1;32m      3\u001b[0m \u001b[0mprint\u001b[0m\u001b[0;34m(\u001b[0m\u001b[0;34m\"The file content are: \"\u001b[0m\u001b[0;34m,\u001b[0m \u001b[0mfile_content\u001b[0m\u001b[0;34m)\u001b[0m\u001b[0;34m\u001b[0m\u001b[0;34m\u001b[0m\u001b[0m\n\u001b[1;32m      4\u001b[0m \u001b[0;34m\u001b[0m\u001b[0m\n\u001b[1;32m      5\u001b[0m \u001b[0mcontent_list\u001b[0m \u001b[0;34m=\u001b[0m \u001b[0mfile_content\u001b[0m\u001b[0;34m.\u001b[0m\u001b[0msplit\u001b[0m\u001b[0;34m(\u001b[0m\u001b[0;34m\",\"\u001b[0m\u001b[0;34m)\u001b[0m\u001b[0;34m\u001b[0m\u001b[0;34m\u001b[0m\u001b[0m\n",
      "\u001b[0;31mFileNotFoundError\u001b[0m: [Errno 2] No such file or directory: 'apple.txt'"
     ]
    }
   ],
   "source": [
    "txt_file = open(\"apple.txt\", \"r\")\n",
    "file_content = txt_file.read()\n",
    "print(\"The file content are: \", file_content)\n",
    "\n",
    "content_list = file_content.split(\",\")\n",
    "txt_file.close()\n",
    "print(\"The list is: \", content_list)"
   ]
  },
  {
   "cell_type": "code",
   "execution_count": 12,
   "id": "f641b36f-1e9c-4adf-b088-c286ae4a494d",
   "metadata": {},
   "outputs": [],
   "source": [
    "name = 'mal'"
   ]
  },
  {
   "cell_type": "code",
   "execution_count": 3,
   "id": "1f85f34b-e67b-4d63-8891-d3ef8e143517",
   "metadata": {},
   "outputs": [
    {
     "name": "stdin",
     "output_type": "stream",
     "text": [
      "What is you name?  Pantelis\n"
     ]
    },
    {
     "name": "stdout",
     "output_type": "stream",
     "text": [
      "Hi Pantelis\n"
     ]
    }
   ],
   "source": [
    "name = input('What is you name? ')\n",
    "print('Hi ' + name)"
   ]
  },
  {
   "cell_type": "code",
   "execution_count": 11,
   "id": "b481c1c1-75eb-47f3-b634-ba48d02677b5",
   "metadata": {},
   "outputs": [
    {
     "name": "stdin",
     "output_type": "stream",
     "text": [
      ">  help\n"
     ]
    },
    {
     "name": "stdout",
     "output_type": "stream",
     "text": [
      "\n",
      "        type: start --> to start the car\n",
      "              stop --> to stop the car \n",
      "              quit --> to quit the program\n",
      "              \n"
     ]
    },
    {
     "name": "stdin",
     "output_type": "stream",
     "text": [
      ">  start\n"
     ]
    },
    {
     "name": "stdout",
     "output_type": "stream",
     "text": [
      "car started\n"
     ]
    },
    {
     "name": "stdin",
     "output_type": "stream",
     "text": [
      ">  stop\n"
     ]
    },
    {
     "name": "stdout",
     "output_type": "stream",
     "text": [
      "car stopped\n"
     ]
    },
    {
     "name": "stdin",
     "output_type": "stream",
     "text": [
      ">  quit\n"
     ]
    }
   ],
   "source": [
    "command = ''\n",
    "while True:\n",
    "    command = input('> ')\n",
    "    if command == 'start':\n",
    "        print('car started')\n",
    "    elif command == 'stop':\n",
    "        print('car stopped')\n",
    "    elif command == 'help':\n",
    "        print('''\n",
    "        type: start --> to start the car\n",
    "              stop --> to stop the car \n",
    "              quit --> to quit the program\n",
    "              ''')\n",
    "    elif command == 'quit':\n",
    "        break\n",
    "else:\n",
    "    print(' I do no understand')\n",
    "        "
   ]
  },
  {
   "cell_type": "code",
   "execution_count": 12,
   "id": "9036b701-daae-498b-ad5d-9ab21ecb110b",
   "metadata": {},
   "outputs": [
    {
     "name": "stdout",
     "output_type": "stream",
     "text": [
      "60\n",
      "60\n",
      "60\n"
     ]
    }
   ],
   "source": [
    "prices =[10,20,30]\n",
    "for item in prices:\n",
    "    print(10+20+30)"
   ]
  },
  {
   "cell_type": "code",
   "execution_count": 4,
   "id": "da342276-9c36-4d2c-a295-d8d23b2f757d",
   "metadata": {},
   "outputs": [
    {
     "name": "stdout",
     "output_type": "stream",
     "text": [
      "60\n"
     ]
    }
   ],
   "source": [
    "prices =[10,20,30]\n",
    "total = 0\n",
    "for price in prices:\n",
    "    total = price + total\n",
    "print(total)"
   ]
  },
  {
   "cell_type": "code",
   "execution_count": null,
   "id": "4b5d82a8-bd75-422f-97b4-db36167c0112",
   "metadata": {},
   "outputs": [],
   "source": []
  }
 ],
 "metadata": {
  "kernelspec": {
   "display_name": "Python 3 (ipykernel)",
   "language": "python",
   "name": "python3"
  },
  "language_info": {
   "codemirror_mode": {
    "name": "ipython",
    "version": 3
   },
   "file_extension": ".py",
   "mimetype": "text/x-python",
   "name": "python",
   "nbconvert_exporter": "python",
   "pygments_lexer": "ipython3",
   "version": "3.9.7"
  }
 },
 "nbformat": 4,
 "nbformat_minor": 5
}
